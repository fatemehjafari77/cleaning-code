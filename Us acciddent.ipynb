{
  "nbformat": 4,
  "nbformat_minor": 0,
  "metadata": {
    "colab": {
      "provenance": [],
      "gpuType": "T4",
      "mount_file_id": "1jB2_iazc3xJOWM4KvREjgjpEtVXSAvtq",
      "authorship_tag": "ABX9TyNZLSoiQgdIWNcU/Y6Hu3zs",
      "include_colab_link": true
    },
    "kernelspec": {
      "name": "python3",
      "display_name": "Python 3"
    },
    "language_info": {
      "name": "python"
    },
    "accelerator": "GPU"
  },
  "cells": [
    {
      "cell_type": "markdown",
      "metadata": {
        "id": "view-in-github",
        "colab_type": "text"
      },
      "source": [
        "<a href=\"https://colab.research.google.com/github/fatemehjafari77/cleaning-code/blob/main/Us%20acciddent.ipynb\" target=\"_parent\"><img src=\"https://colab.research.google.com/assets/colab-badge.svg\" alt=\"Open In Colab\"/></a>"
      ]
    },
    {
      "cell_type": "markdown",
      "source": [
        " # install kaggle"
      ],
      "metadata": {
        "id": "VpX-LVkdBOYb"
      }
    },
    {
      "cell_type": "code",
      "source": [
        "! pip install kaggle --quiet"
      ],
      "metadata": {
        "id": "TWNPTo5sBRwZ"
      },
      "execution_count": 1,
      "outputs": []
    },
    {
      "cell_type": "markdown",
      "source": [
        "#  make folder, copy data kaggle"
      ],
      "metadata": {
        "id": "L-KMxfEeBUca"
      }
    },
    {
      "cell_type": "code",
      "source": [
        "!mkdir -p ~/.kaggle\n",
        "!cp kaggle.json ~/.kaggle/\n",
        "!chmod 600 ~/.kaggle/kaggle.json"
      ],
      "metadata": {
        "id": "-l5DKrXPBYG8"
      },
      "execution_count": 2,
      "outputs": []
    },
    {
      "cell_type": "markdown",
      "source": [
        "# paste kaggle address"
      ],
      "metadata": {
        "id": "uGYTnsoZBefE"
      }
    },
    {
      "cell_type": "code",
      "source": [
        "!kaggle datasets download -d sobhanmoosavi/us-accidents"
      ],
      "metadata": {
        "colab": {
          "base_uri": "https://localhost:8080/"
        },
        "id": "6jFqKoojBhs-",
        "outputId": "d174042b-4bce-40c9-8cb1-ad50ff011eb6"
      },
      "execution_count": 3,
      "outputs": [
        {
          "output_type": "stream",
          "name": "stdout",
          "text": [
            "Dataset URL: https://www.kaggle.com/datasets/sobhanmoosavi/us-accidents\n",
            "License(s): CC-BY-NC-SA-4.0\n",
            "Downloading us-accidents.zip to /content\n",
            " 96% 630M/653M [00:07<00:00, 39.2MB/s]\n",
            "100% 653M/653M [00:07<00:00, 89.9MB/s]\n"
          ]
        }
      ]
    },
    {
      "cell_type": "markdown",
      "source": [
        "# unzip file"
      ],
      "metadata": {
        "id": "DsMw8FspBl5n"
      }
    },
    {
      "cell_type": "code",
      "source": [
        "!unzip us-accidents.zip"
      ],
      "metadata": {
        "colab": {
          "base_uri": "https://localhost:8080/"
        },
        "id": "QPGoAlnHBqPr",
        "outputId": "8d8edc20-bb54-4fb2-9e22-d2cc3627c550"
      },
      "execution_count": 4,
      "outputs": [
        {
          "output_type": "stream",
          "name": "stdout",
          "text": [
            "Archive:  us-accidents.zip\n",
            "  inflating: US_Accidents_March23.csv  \n"
          ]
        }
      ]
    },
    {
      "cell_type": "markdown",
      "source": [
        "# make libraries suitable for GPU"
      ],
      "metadata": {
        "id": "9W5tAsA9BzH6"
      }
    },
    {
      "cell_type": "code",
      "source": [
        "!git clone http://github.com/rapidsai/rapidsai-csp-utils.git\n",
        "!python rapidsai-csp-utils/colab/pip-install.py"
      ],
      "metadata": {
        "colab": {
          "base_uri": "https://localhost:8080/"
        },
        "id": "UANx8v6KB0OJ",
        "outputId": "0c10e16b-b8e0-408f-ba38-e583f6f2cb36"
      },
      "execution_count": 5,
      "outputs": [
        {
          "output_type": "stream",
          "name": "stdout",
          "text": [
            "Cloning into 'rapidsai-csp-utils'...\n",
            "warning: redirecting to https://github.com/rapidsai/rapidsai-csp-utils.git/\n",
            "remote: Enumerating objects: 597, done.\u001b[K\n",
            "remote: Counting objects: 100% (163/163), done.\u001b[K\n",
            "remote: Compressing objects: 100% (81/81), done.\u001b[K\n",
            "remote: Total 597 (delta 128), reused 82 (delta 82), pack-reused 434 (from 3)\u001b[K\n",
            "Receiving objects: 100% (597/597), 196.59 KiB | 9.36 MiB/s, done.\n",
            "Resolving deltas: 100% (302/302), done.\n",
            "Installing RAPIDS remaining 25.04 libraries\n",
            "Using Python 3.11.13 environment at: /usr\n",
            "Resolved 175 packages in 1.39s\n",
            "Downloading libcuspatial-cu12 (31.1MiB)\n",
            "Downloading librmm-cu12 (2.9MiB)\n",
            "Downloading datashader (17.5MiB)\n",
            "Downloading shapely (2.4MiB)\n",
            "Downloading bokeh (6.6MiB)\n",
            "Downloading dask (1.3MiB)\n",
            "Downloading libcuvs-cu12 (1.1GiB)\n",
            "Downloading pylibcudf-cu12 (26.4MiB)\n",
            "Downloading nvidia-nvcomp-cu12 (44.1MiB)\n",
            "Downloading libcudf-cu12 (538.8MiB)\n",
            "Downloading libcugraph-cu12 (1.4GiB)\n",
            "Downloading cuspatial-cu12 (4.1MiB)\n",
            "Downloading cuml-cu12 (9.4MiB)\n",
            "Downloading raft-dask-cu12 (274.9MiB)\n",
            "Downloading pylibcugraph-cu12 (2.0MiB)\n",
            "Downloading libcuml-cu12 (404.9MiB)\n",
            "Downloading cugraph-cu12 (3.0MiB)\n",
            "Downloading cudf-cu12 (1.7MiB)\n",
            "Downloading rmm-cu12 (1.5MiB)\n",
            "Downloading ucx-py-cu12 (2.2MiB)\n",
            "Downloading cuproj-cu12 (1.1MiB)\n",
            "Downloading libkvikio-cu12 (2.0MiB)\n",
            "Downloading libraft-cu12 (20.8MiB)\n",
            "Downloading cucim-cu12 (5.6MiB)\n",
            " Downloaded cuproj-cu12\n",
            " Downloaded rmm-cu12\n",
            " Downloaded shapely\n",
            " Downloaded datashader\n",
            " Downloaded dask\n",
            " Downloaded pylibcugraph-cu12\n",
            " Downloaded ucx-py-cu12\n",
            " Downloaded libkvikio-cu12\n",
            " Downloaded cugraph-cu12\n",
            " Downloaded cuspatial-cu12\n",
            " Downloaded librmm-cu12\n",
            " Downloaded bokeh\n",
            " Downloaded cudf-cu12\n",
            " Downloaded cucim-cu12\n",
            " Downloaded cuml-cu12\n",
            " Downloaded libcuspatial-cu12\n",
            " Downloaded pylibcudf-cu12\n",
            " Downloaded nvidia-nvcomp-cu12\n",
            " Downloaded libraft-cu12\n",
            " Downloaded libcudf-cu12\n",
            " Downloaded raft-dask-cu12\n",
            " Downloaded libcuml-cu12\n",
            " Downloaded libcuvs-cu12\n",
            " Downloaded libcugraph-cu12\n",
            "Prepared 54 packages in 1m 15s\n",
            "Uninstalled 30 packages in 1.49s\n",
            "Installed 54 packages in 635ms\n",
            " + arrow==1.3.0\n",
            " - bokeh==3.7.3\n",
            " + bokeh==3.6.3\n",
            " + cucim-cu12==25.4.0\n",
            " - cudf-cu12==25.6.0 (from https://pypi.nvidia.com/cudf-cu12/cudf_cu12-25.6.0-cp311-cp311-manylinux_2_24_x86_64.manylinux_2_28_x86_64.whl)\n",
            " + cudf-cu12==25.4.0\n",
            " + cugraph-cu12==25.4.1\n",
            " - cuml-cu12==25.6.0\n",
            " + cuml-cu12==25.4.0\n",
            " + cuproj-cu12==25.4.0\n",
            " + cuspatial-cu12==25.4.0\n",
            " - cuvs-cu12==25.6.1\n",
            " + cuvs-cu12==25.4.0\n",
            " + cuxfilter-cu12==25.4.0\n",
            " - dask==2025.5.0\n",
            " + dask==2025.2.0\n",
            " - dask-cuda==25.6.0\n",
            " + dask-cuda==25.4.0\n",
            " - dask-cudf-cu12==25.6.0\n",
            " + dask-cudf-cu12==25.4.0\n",
            " + datashader==0.18.2\n",
            " - distributed==2025.5.0\n",
            " + distributed==2025.2.0\n",
            " - distributed-ucxx-cu12==0.44.0\n",
            " + distributed-ucxx-cu12==0.43.0\n",
            " + fqdn==1.5.1\n",
            " + isoduration==20.11.0\n",
            " - jupyter-client==6.1.12\n",
            " + jupyter-client==8.6.3\n",
            " + jupyter-events==0.12.0\n",
            " - jupyter-server==1.16.0\n",
            " + jupyter-server==2.16.0\n",
            " + jupyter-server-proxy==4.4.0\n",
            " + jupyter-server-terminals==0.5.3\n",
            " + lark==1.2.2\n",
            " - libcudf-cu12==25.6.0 (from https://pypi.nvidia.com/libcudf-cu12/libcudf_cu12-25.6.0-py3-none-manylinux_2_28_x86_64.whl)\n",
            " + libcudf-cu12==25.4.0\n",
            " - libcugraph-cu12==25.6.0\n",
            " + libcugraph-cu12==25.4.1\n",
            " - libcuml-cu12==25.6.0\n",
            " + libcuml-cu12==25.4.0\n",
            " + libcuspatial-cu12==25.4.0\n",
            " - libcuvs-cu12==25.6.1\n",
            " + libcuvs-cu12==25.4.0\n",
            " - libkvikio-cu12==25.6.0\n",
            " + libkvikio-cu12==25.4.0\n",
            " - libraft-cu12==25.6.0\n",
            " + libraft-cu12==25.4.0\n",
            " - librmm-cu12==25.6.0\n",
            " + librmm-cu12==25.4.0\n",
            " - libucxx-cu12==0.44.0\n",
            " + libucxx-cu12==0.43.0\n",
            " - numba-cuda==0.11.0\n",
            " + numba-cuda==0.4.0\n",
            " + nvidia-nvcomp-cu12==4.2.0.11\n",
            " - nx-cugraph-cu12==25.6.0 (from https://pypi.nvidia.com/nx-cugraph-cu12/nx_cugraph_cu12-25.6.0-py3-none-any.whl)\n",
            " + nx-cugraph-cu12==25.4.0\n",
            " + overrides==7.7.0\n",
            " + pyct==0.5.0\n",
            " - pylibcudf-cu12==25.6.0 (from https://pypi.nvidia.com/pylibcudf-cu12/pylibcudf_cu12-25.6.0-cp311-cp311-manylinux_2_24_x86_64.manylinux_2_28_x86_64.whl)\n",
            " + pylibcudf-cu12==25.4.0\n",
            " - pylibcugraph-cu12==25.6.0\n",
            " + pylibcugraph-cu12==25.4.1\n",
            " - pylibraft-cu12==25.6.0\n",
            " + pylibraft-cu12==25.4.0\n",
            " + python-json-logger==3.3.0\n",
            " - raft-dask-cu12==25.6.0\n",
            " + raft-dask-cu12==25.4.0\n",
            " - rapids-dask-dependency==25.6.0\n",
            " + rapids-dask-dependency==25.4.0\n",
            " + rfc3339-validator==0.1.4\n",
            " + rfc3986-validator==0.1.1\n",
            " + rfc3987-syntax==1.1.0\n",
            " - rmm-cu12==25.6.0\n",
            " + rmm-cu12==25.4.0\n",
            " - shapely==2.1.1\n",
            " + shapely==2.0.7\n",
            " + simpervisor==1.0.0\n",
            " + types-python-dateutil==2.9.0.20250809\n",
            " - ucx-py-cu12==0.44.0\n",
            " + ucx-py-cu12==0.43.0\n",
            " - ucxx-cu12==0.44.0\n",
            " + ucxx-cu12==0.43.0\n",
            " + uri-template==1.3.0\n",
            "\n",
            "        ***********************************************************************\n",
            "        The pip install of RAPIDS is complete.\n",
            "\n",
            "        Please do not run any further installation from the conda based installation methods, as they may cause issues!\n",
            "\n",
            "        Please ensure that you're pulling from the git repo to remain updated with the latest working install scripts.\n",
            "\n",
            "        Troubleshooting:\n",
            "            - If there is an installation failure, please check back on RAPIDSAI owned templates/notebooks to see how to update your personal files.\n",
            "            - If an installation failure persists when using the latest script, please make an issue on https://github.com/rapidsai-community/rapidsai-csp-utils\n",
            "        ***********************************************************************\n",
            "        \n"
          ]
        }
      ]
    },
    {
      "cell_type": "markdown",
      "source": [
        "# import libreries"
      ],
      "metadata": {
        "id": "Q5ZkwwvsB4TW"
      }
    },
    {
      "cell_type": "code",
      "source": [
        "import cudf\n",
        "import cupy as cp\n",
        "df = cudf.read_csv(\"/content/US_Accidents_March23.csv\")\n",
        "import numpy as np"
      ],
      "metadata": {
        "id": "gPdpteAhB9PT"
      },
      "execution_count": 6,
      "outputs": []
    },
    {
      "cell_type": "markdown",
      "source": [
        "# use info for recive some information about data"
      ],
      "metadata": {
        "id": "1KeDBx2oCQVD"
      }
    },
    {
      "cell_type": "code",
      "source": [
        "df.info()"
      ],
      "metadata": {
        "colab": {
          "base_uri": "https://localhost:8080/"
        },
        "id": "GcfXtrKWCRdR",
        "outputId": "bbe49012-249d-4b34-9dab-ce69f56bfb3d"
      },
      "execution_count": 7,
      "outputs": [
        {
          "output_type": "stream",
          "name": "stdout",
          "text": [
            "<class 'cudf.core.dataframe.DataFrame'>\n",
            "RangeIndex: 7728394 entries, 0 to 7728393\n",
            "Data columns (total 46 columns):\n",
            " #   Column                 Dtype\n",
            "---  ------                 -----\n",
            " 0   ID                     object\n",
            " 1   Source                 object\n",
            " 2   Severity               int64\n",
            " 3   Start_Time             object\n",
            " 4   End_Time               object\n",
            " 5   Start_Lat              float64\n",
            " 6   Start_Lng              float64\n",
            " 7   End_Lat                float64\n",
            " 8   End_Lng                float64\n",
            " 9   Distance(mi)           float64\n",
            " 10  Description            object\n",
            " 11  Street                 object\n",
            " 12  City                   object\n",
            " 13  County                 object\n",
            " 14  State                  object\n",
            " 15  Zipcode                object\n",
            " 16  Country                object\n",
            " 17  Timezone               object\n",
            " 18  Airport_Code           object\n",
            " 19  Weather_Timestamp      object\n",
            " 20  Temperature(F)         float64\n",
            " 21  Wind_Chill(F)          float64\n",
            " 22  Humidity(%)            float64\n",
            " 23  Pressure(in)           float64\n",
            " 24  Visibility(mi)         float64\n",
            " 25  Wind_Direction         object\n",
            " 26  Wind_Speed(mph)        float64\n",
            " 27  Precipitation(in)      float64\n",
            " 28  Weather_Condition      object\n",
            " 29  Amenity                bool\n",
            " 30  Bump                   bool\n",
            " 31  Crossing               bool\n",
            " 32  Give_Way               bool\n",
            " 33  Junction               bool\n",
            " 34  No_Exit                bool\n",
            " 35  Railway                bool\n",
            " 36  Roundabout             bool\n",
            " 37  Station                bool\n",
            " 38  Stop                   bool\n",
            " 39  Traffic_Calming        bool\n",
            " 40  Traffic_Signal         bool\n",
            " 41  Turning_Loop           bool\n",
            " 42  Sunrise_Sunset         object\n",
            " 43  Civil_Twilight         object\n",
            " 44  Nautical_Twilight      object\n",
            " 45  Astronomical_Twilight  object\n",
            "dtypes: bool(13), float64(12), int64(1), object(20)\n",
            "memory usage: 3.0+ GB\n"
          ]
        }
      ]
    },
    {
      "cell_type": "markdown",
      "source": [
        "# cleaning data\n",
        "### at first we deleted extra columns"
      ],
      "metadata": {
        "id": "uCUKQZQTCUku"
      }
    },
    {
      "cell_type": "code",
      "source": [
        "#we dont need this columns for analyze so deleted them and we reduce the volume\n",
        "df.drop(columns=[\"ID\",\"Country\",\"Astronomical_Twilight\",\"Nautical_Twilight\",\"Civil_Twilight\",\"Sunrise_Sunset\",\"Wind_Speed(mph)\"\n",
        ",\"Wind_Direction\",\"Humidity(%)\",\"Wind_Chill(F)\",\"Temperature(F)\",\"Zipcode\",\"Station\",\"County\",\"Source\"],inplace=True)"
      ],
      "metadata": {
        "id": "MIsi3F4KCaCP"
      },
      "execution_count": 8,
      "outputs": []
    },
    {
      "cell_type": "markdown",
      "source": [
        "# type casting"
      ],
      "metadata": {
        "id": "h_-7VNY2CjnU"
      }
    },
    {
      "cell_type": "code",
      "source": [
        "#change the type for some columns beacuse they wastes memory\n",
        "df[\"Severity\"] = df[\"Severity\"].astype(\"uint8\")\n",
        "df[[\"Start_Lat\",\"Start_Lng\",\"End_Lat\",\"End_Lng\",\"Distance(mi)\",\"Visibility(mi)\",\"Precipitation(in)\"]] = df[[\"Start_Lat\",\"Start_Lng\",\"End_Lat\",\"End_Lng\",\"Distance(mi)\",\"Visibility(mi)\",\"Precipitation(in)\"]].astype(\"float32\")"
      ],
      "metadata": {
        "id": "mg1-XYLICkuI"
      },
      "execution_count": 9,
      "outputs": []
    },
    {
      "cell_type": "code",
      "source": [
        "#boolean change to int,its better for working with data\n",
        "df[[\"Bump\",\"Crossing\",\"Give_Way\",\"Junction\",\"No_Exit\",\"Railway\",\"Roundabout\",\"Stop\",\"Traffic_Calming\",\"Traffic_Signal\",\"Turning_Loop\"]] = df[[\"Bump\",\"Crossing\",\"Give_Way\",\"Junction\",\"No_Exit\",\"Railway\",\"Roundabout\",\"Stop\",\"Traffic_Calming\",\"Traffic_Signal\",\"Turning_Loop\"]].astype(\"uint8\")"
      ],
      "metadata": {
        "id": "5bV-q_l6CqqY"
      },
      "execution_count": 12,
      "outputs": []
    },
    {
      "cell_type": "markdown",
      "source": [
        "# fill some nan date and clean some of them"
      ],
      "metadata": {
        "id": "pktGDsPSJwUh"
      }
    },
    {
      "cell_type": "code",
      "source": [
        "# NAN data is string so we need to change np.nan\n",
        "df[\"End_Lng\"] = df[\"End_Lng\"].astype(str)\n",
        "df[\"End_Lat\"] = df[\"End_Lat\"].astype(str)\n",
        "df[\"End_Lng\"] = df[\"End_Lng\"].replace(\"NA\", cudf.NA)\n",
        "df[\"End_Lat\"] = df[\"End_Lat\"].replace(\"NA\", cudf.NA)\n",
        "df[\"End_Lng\"] = df[\"End_Lng\"].astype(\"float32\")\n",
        "df[\"End_Lat\"] = df[\"End_Lat\"].astype(\"float32\")\n",
        "df[\"End_Lng\"] = df[\"End_Lng\"].fillna(1)\n",
        "df[\"End_Lat\"] = df[\"End_Lat\"].fillna(1)"
      ],
      "metadata": {
        "id": "-OTfyRVWJwxs"
      },
      "execution_count": null,
      "outputs": []
    },
    {
      "cell_type": "markdown",
      "source": [
        "# check the NANE Data"
      ],
      "metadata": {
        "id": "NXfLP7vzC9H_"
      }
    },
    {
      "cell_type": "code",
      "source": [
        "print(df.isna().sum())"
      ],
      "metadata": {
        "colab": {
          "base_uri": "https://localhost:8080/"
        },
        "id": "GYoJvvhVC_B1",
        "outputId": "bea6b5f1-5943-4d83-b5ab-92229fc1c72a"
      },
      "execution_count": 13,
      "outputs": [
        {
          "output_type": "stream",
          "name": "stdout",
          "text": [
            "Severity                   0\n",
            "Start_Time                 0\n",
            "End_Time                   0\n",
            "Start_Lat                  0\n",
            "Start_Lng                  0\n",
            "End_Lat              3402762\n",
            "End_Lng              3402762\n",
            "Distance(mi)               0\n",
            "Description                5\n",
            "Street                 10869\n",
            "City                     253\n",
            "State                      0\n",
            "Timezone                7808\n",
            "Airport_Code           22635\n",
            "Weather_Timestamp     120228\n",
            "Pressure(in)          140679\n",
            "Visibility(mi)        177098\n",
            "Precipitation(in)    2203586\n",
            "Weather_Condition     173459\n",
            "Amenity                    0\n",
            "Bump                       0\n",
            "Crossing                   0\n",
            "Give_Way                   0\n",
            "Junction                   0\n",
            "No_Exit                    0\n",
            "Railway                    0\n",
            "Roundabout                 0\n",
            "Stop                       0\n",
            "Traffic_Calming            0\n",
            "Traffic_Signal             0\n",
            "Turning_Loop               0\n",
            "dtype: int64\n"
          ]
        }
      ]
    },
    {
      "cell_type": "markdown",
      "source": [
        "# find out-lier data"
      ],
      "metadata": {
        "id": "gRhCKlVNDK_w"
      }
    },
    {
      "cell_type": "code",
      "source": [
        "# we want to fin out-lier related to Start_Lat and Start_Lng\n",
        "### start  with find mean and std for Start_Lat\n",
        "mean1 = df[\"Start_Lat\"].mean()\n",
        "std1 = df[\"Start_Lat\"].std()\n",
        "upper_bond1 = mean1 + 2 * std1\n",
        "lower_bond1 = mean1 - 2 * std1\n",
        "outlier1= df[\"Start_Lat\"][(df[\"Start_Lat\"] > upper_bond1) | (df[\"Start_Lat\"] < lower_bond1)].reset_index(drop=True)\n",
        "print(outlier1.shape[0])"
      ],
      "metadata": {
        "colab": {
          "base_uri": "https://localhost:8080/"
        },
        "id": "jzYuUQZeDMCU",
        "outputId": "e7a7b96f-d6d5-4054-bf6a-5013a52abe4a"
      },
      "execution_count": 28,
      "outputs": [
        {
          "output_type": "stream",
          "name": "stdout",
          "text": [
            "402966\n"
          ]
        }
      ]
    },
    {
      "cell_type": "code",
      "source": [
        "### start  with find mean and std for Start_Lng\n",
        "mean2 = df[\"Start_Lng\"].mean()\n",
        "std2 = df[\"Start_Lng\"].std()\n",
        "upper_bond2 = mean2 + 1.5 * std2\n",
        "lower_bond2 = mean2 - 1.5 * std2\n",
        "outlier2 = df[\"Start_Lng\"][(df[\"Start_Lng\"] > upper_bond2) | (df[\"Start_Lng\"] < lower_bond2)].reset_index(drop=True)\n",
        "print(outlier2.shape[0])"
      ],
      "metadata": {
        "colab": {
          "base_uri": "https://localhost:8080/"
        },
        "id": "K2iO2g--DV-k",
        "outputId": "221e2394-36c2-48c9-8ba3-33f4e201b085"
      },
      "execution_count": 29,
      "outputs": [
        {
          "output_type": "stream",
          "name": "stdout",
          "text": [
            "874356\n"
          ]
        }
      ]
    },
    {
      "cell_type": "markdown",
      "source": [
        "# make outlier file"
      ],
      "metadata": {
        "id": "7RAfQZ60Da39"
      }
    },
    {
      "cell_type": "code",
      "source": [
        "\n",
        "outlier1 = outlier1.reset_index()\n",
        "outlier2 = outlier1.reset_index()\n",
        "outlier1.to_csv(\"outlier_Lat.csv\", index=False)\n",
        "outlier2.to_csv(\"outlier_Lng.csv\", index=False)"
      ],
      "metadata": {
        "id": "lGWCa7kUDcDq"
      },
      "execution_count": 32,
      "outputs": []
    }
  ]
}